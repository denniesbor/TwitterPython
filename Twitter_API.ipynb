{
  "cells": [
    {
      "cell_type": "markdown",
      "metadata": {
        "id": "view-in-github",
        "colab_type": "text"
      },
      "source": [
        "<a href=\"https://colab.research.google.com/github/denniesbor/TwitterPython/blob/RawNotebooks/Twitter_API.ipynb\" target=\"_parent\"><img src=\"https://colab.research.google.com/assets/colab-badge.svg\" alt=\"Open In Colab\"/></a>"
      ]
    },
    {
      "cell_type": "markdown",
      "id": "ce6750cd",
      "metadata": {
        "id": "ce6750cd"
      },
      "source": [
        "# Introduction"
      ]
    },
    {
      "cell_type": "markdown",
      "id": "9632af08",
      "metadata": {
        "id": "9632af08"
      },
      "source": [
        "This notebook's primary purpose is scraping tweets from the Twitter API and exporting the tweets as data frames to be consumed by other NLP processes such as sentiment, emotion analysis, and topic modelling.\n",
        "\n",
        "Twitter API allows three access types: Essential, elevated, and academic research. We will use the elevated access for our case, which helps scrape 2m tweets per month. However, there are a couple of restrictions while writing our queries, such as acquiring tweets from a region, etc. \n",
        "\n",
        "This tutorial will download data on the Kenyan trends for the past week.\n",
        "\n",
        "The four Twitter API endpoints to be utilized are listed below:\n",
        "\n",
        "1. Standard search API: To query tweets using key phrases.\n",
        "2. Get trends/places API: To query trending hashtags\n",
        "3. Client & Paginator API: To scrape more tweets\n",
        "4. Cursor API: Compliments the search API for more tweets"
      ]
    },
    {
      "cell_type": "code",
      "source": [
        "from google.colab import drive\n",
        "drive.mount('/content/drive')"
      ],
      "metadata": {
        "colab": {
          "base_uri": "https://localhost:8080/"
        },
        "id": "OiIfgPExs_vy",
        "outputId": "3a033cfd-69f6-4e25-e530-53e84d6b834b"
      },
      "id": "OiIfgPExs_vy",
      "execution_count": null,
      "outputs": [
        {
          "output_type": "stream",
          "name": "stdout",
          "text": [
            "Mounted at /content/drive\n"
          ]
        }
      ]
    },
    {
      "cell_type": "code",
      "source": [
        "cd /content/drive/MyDrive/Summer2022"
      ],
      "metadata": {
        "colab": {
          "base_uri": "https://localhost:8080/"
        },
        "id": "Y85Uy38CtKWF",
        "outputId": "7e036cd5-8fbb-49d9-d33b-a2e4c84f97ce"
      },
      "id": "Y85Uy38CtKWF",
      "execution_count": null,
      "outputs": [
        {
          "output_type": "stream",
          "name": "stdout",
          "text": [
            "/content/drive/MyDrive/Summer2022\n"
          ]
        }
      ]
    },
    {
      "cell_type": "code",
      "source": [
        "# update tweepy\n",
        "\n",
        "!pip install tweepy --upgrade"
      ],
      "metadata": {
        "id": "qZhaIOpRbbrj",
        "colab": {
          "base_uri": "https://localhost:8080/"
        },
        "outputId": "5b390d9a-ae66-48bc-97db-14fcb67f3535"
      },
      "id": "qZhaIOpRbbrj",
      "execution_count": null,
      "outputs": [
        {
          "output_type": "stream",
          "name": "stdout",
          "text": [
            "Requirement already satisfied: tweepy in /usr/local/lib/python3.7/dist-packages (3.10.0)\n",
            "Collecting tweepy\n",
            "  Downloading tweepy-4.9.0-py3-none-any.whl (77 kB)\n",
            "\u001b[K     |████████████████████████████████| 77 kB 5.4 MB/s \n",
            "\u001b[?25hRequirement already satisfied: requests-oauthlib<2,>=1.2.0 in /usr/local/lib/python3.7/dist-packages (from tweepy) (1.3.1)\n",
            "Requirement already satisfied: oauthlib<4,>=3.2.0 in /usr/local/lib/python3.7/dist-packages (from tweepy) (3.2.0)\n",
            "Collecting requests<3,>=2.27.0\n",
            "  Downloading requests-2.27.1-py2.py3-none-any.whl (63 kB)\n",
            "\u001b[K     |████████████████████████████████| 63 kB 1.7 MB/s \n",
            "\u001b[?25hRequirement already satisfied: certifi>=2017.4.17 in /usr/local/lib/python3.7/dist-packages (from requests<3,>=2.27.0->tweepy) (2021.10.8)\n",
            "Requirement already satisfied: charset-normalizer~=2.0.0 in /usr/local/lib/python3.7/dist-packages (from requests<3,>=2.27.0->tweepy) (2.0.12)\n",
            "Requirement already satisfied: urllib3<1.27,>=1.21.1 in /usr/local/lib/python3.7/dist-packages (from requests<3,>=2.27.0->tweepy) (1.24.3)\n",
            "Requirement already satisfied: idna<4,>=2.5 in /usr/local/lib/python3.7/dist-packages (from requests<3,>=2.27.0->tweepy) (2.10)\n",
            "Installing collected packages: requests, tweepy\n",
            "  Attempting uninstall: requests\n",
            "    Found existing installation: requests 2.23.0\n",
            "    Uninstalling requests-2.23.0:\n",
            "      Successfully uninstalled requests-2.23.0\n",
            "  Attempting uninstall: tweepy\n",
            "    Found existing installation: tweepy 3.10.0\n",
            "    Uninstalling tweepy-3.10.0:\n",
            "      Successfully uninstalled tweepy-3.10.0\n",
            "\u001b[31mERROR: pip's dependency resolver does not currently take into account all the packages that are installed. This behaviour is the source of the following dependency conflicts.\n",
            "google-colab 1.0.0 requires requests~=2.23.0, but you have requests 2.27.1 which is incompatible.\n",
            "datascience 0.10.6 requires folium==0.2.1, but you have folium 0.8.3 which is incompatible.\u001b[0m\n",
            "Successfully installed requests-2.27.1 tweepy-4.9.0\n"
          ]
        }
      ]
    },
    {
      "cell_type": "markdown",
      "id": "4a47ba26",
      "metadata": {
        "id": "4a47ba26"
      },
      "source": [
        "## 1. Import Libraries"
      ]
    },
    {
      "cell_type": "code",
      "execution_count": null,
      "id": "cf93b95a",
      "metadata": {
        "id": "cf93b95a"
      },
      "outputs": [],
      "source": [
        "# Import libraries\n",
        "import tweepy\n",
        "import pandas as pd\n",
        "import numpy as np\n",
        "import datetime\n",
        "from datetime import date\n",
        "\n",
        "# save keys in config.py\n",
        "import config"
      ]
    },
    {
      "cell_type": "code",
      "source": [
        "# !touch config.py"
      ],
      "metadata": {
        "id": "b-26AN01Wt4C"
      },
      "id": "b-26AN01Wt4C",
      "execution_count": null,
      "outputs": []
    },
    {
      "cell_type": "markdown",
      "id": "b3fe48a7",
      "metadata": {
        "id": "b3fe48a7"
      },
      "source": [
        "## 2. Twitter Authentication"
      ]
    },
    {
      "cell_type": "markdown",
      "id": "a6084f28",
      "metadata": {
        "id": "a6084f28"
      },
      "source": [
        "Set up twitter authentication. Credentials are stored separately in a config file."
      ]
    },
    {
      "cell_type": "code",
      "execution_count": null,
      "id": "e9a87298",
      "metadata": {
        "id": "e9a87298"
      },
      "outputs": [],
      "source": [
        "# Read credentials from config file\n",
        "\n",
        "api_key = config.api_key\n",
        "api_key_secret = config.api_key_secret\n",
        "\n",
        "access_token = config.access_token\n",
        "access_token_secret = config.access_token_secret\n"
      ]
    },
    {
      "cell_type": "markdown",
      "source": [
        "### 2.1 Authenticate"
      ],
      "metadata": {
        "id": "H9LDClMHYF3w"
      },
      "id": "H9LDClMHYF3w"
    },
    {
      "cell_type": "code",
      "execution_count": null,
      "id": "5f9be30d",
      "metadata": {
        "id": "5f9be30d"
      },
      "outputs": [],
      "source": [
        "## Authenticate \n",
        "\n",
        "auth = tweepy.OAuth1UserHandler(api_key,api_key_secret)\n",
        "\n",
        "auth.set_access_token(access_token,access_token_secret)\n",
        "\n",
        "api = tweepy.API(auth, wait_on_rate_limit=True)"
      ]
    },
    {
      "cell_type": "markdown",
      "id": "92b2161d",
      "metadata": {
        "id": "92b2161d"
      },
      "source": [
        "## 3. Harvest Tweets"
      ]
    },
    {
      "cell_type": "markdown",
      "id": "cfe23657",
      "metadata": {
        "id": "cfe23657"
      },
      "source": [
        "### 3.1 Standard search API"
      ]
    },
    {
      "cell_type": "markdown",
      "id": "3429eb90",
      "metadata": {
        "id": "3429eb90"
      },
      "source": [
        "Returns a collection of relevant Tweets matching a specified query."
      ]
    },
    {
      "cell_type": "code",
      "execution_count": null,
      "id": "560cfe49",
      "metadata": {
        "colab": {
          "base_uri": "https://localhost:8080/"
        },
        "id": "560cfe49",
        "outputId": "2fccf283-3d76-408c-b290-8104c81b5204"
      },
      "outputs": [
        {
          "output_type": "stream",
          "name": "stdout",
          "text": [
            "CPU times: user 40.1 ms, sys: 3.8 ms, total: 43.9 ms\n",
            "Wall time: 345 ms\n"
          ]
        }
      ],
      "source": [
        "%%time\n",
        "\n",
        "# query\n",
        "query = '(mariupol OR ukraine) lang:en -is:retweet -is:reply'\n",
        "\n",
        "# Tweets to be returned by API\n",
        "tweet_count = 100\n",
        "\n",
        "# List containers for API output\n",
        "tweets = []\n",
        "time_stamps = []\n",
        "screen_names = []\n",
        "topic_country = []\n",
        "\n",
        "# Query API\n",
        "\n",
        "for tweet in api.search_tweets(q=query,count=tweet_count,lang='en',result_type=\"recent\"):\n",
        "    tweets.append(tweet.text)\n",
        "    time_stamps.append(tweet.created_at)\n",
        "    screen_names.append(tweet.user.screen_name)\n",
        "\n"
      ]
    },
    {
      "cell_type": "code",
      "execution_count": null,
      "id": "4659db85",
      "metadata": {
        "colab": {
          "base_uri": "https://localhost:8080/",
          "height": 424
        },
        "id": "4659db85",
        "outputId": "c3cdfc95-1be2-42f6-840e-2b7e5c1eb47f"
      },
      "outputs": [
        {
          "output_type": "execute_result",
          "data": {
            "text/plain": [
              "        screen_name                                             tweets  \\\n",
              "0        crna_ruka_  RT @madrascat: @POTUS I do not stand with Ukra...   \n",
              "1       SeanThorne1  RT @OlgaNYC1211: Russia is playing long game c...   \n",
              "2          Berna_BM  RT @RepMTG: $40 BILLION to Ukraine is an Ameri...   \n",
              "3   SermonetaFutura  RT @mannocchia: New Evidence Shows How Russian...   \n",
              "4     Dallas4Bernie  RT @socialiststeve6: Biden will send $53,000,0...   \n",
              "..              ...                                                ...   \n",
              "95      TerraOrBust  RT @commonslibrary: The EU imports over 80% of...   \n",
              "96       treswatson  RT @benjaminwittes: The New York Times editori...   \n",
              "97       mahiru1024  RT @JuliaDavisNews: Meanwhile on Russian state...   \n",
              "98         murf1966  RT @socialiststeve6: Biden will send $53,000,0...   \n",
              "99    AkemiAnonSato  @takinitezi @Judipopsicle @JulianRoepcke You l...   \n",
              "\n",
              "                  time_stamp  \n",
              "0  2022-05-20 11:48:50+00:00  \n",
              "1  2022-05-20 11:48:50+00:00  \n",
              "2  2022-05-20 11:48:50+00:00  \n",
              "3  2022-05-20 11:48:50+00:00  \n",
              "4  2022-05-20 11:48:49+00:00  \n",
              "..                       ...  \n",
              "95 2022-05-20 11:48:37+00:00  \n",
              "96 2022-05-20 11:48:37+00:00  \n",
              "97 2022-05-20 11:48:37+00:00  \n",
              "98 2022-05-20 11:48:36+00:00  \n",
              "99 2022-05-20 11:48:36+00:00  \n",
              "\n",
              "[100 rows x 3 columns]"
            ],
            "text/html": [
              "\n",
              "  <div id=\"df-605ee899-a462-475d-ae56-74bb1d1ba144\">\n",
              "    <div class=\"colab-df-container\">\n",
              "      <div>\n",
              "<style scoped>\n",
              "    .dataframe tbody tr th:only-of-type {\n",
              "        vertical-align: middle;\n",
              "    }\n",
              "\n",
              "    .dataframe tbody tr th {\n",
              "        vertical-align: top;\n",
              "    }\n",
              "\n",
              "    .dataframe thead th {\n",
              "        text-align: right;\n",
              "    }\n",
              "</style>\n",
              "<table border=\"1\" class=\"dataframe\">\n",
              "  <thead>\n",
              "    <tr style=\"text-align: right;\">\n",
              "      <th></th>\n",
              "      <th>screen_name</th>\n",
              "      <th>tweets</th>\n",
              "      <th>time_stamp</th>\n",
              "    </tr>\n",
              "  </thead>\n",
              "  <tbody>\n",
              "    <tr>\n",
              "      <th>0</th>\n",
              "      <td>crna_ruka_</td>\n",
              "      <td>RT @madrascat: @POTUS I do not stand with Ukra...</td>\n",
              "      <td>2022-05-20 11:48:50+00:00</td>\n",
              "    </tr>\n",
              "    <tr>\n",
              "      <th>1</th>\n",
              "      <td>SeanThorne1</td>\n",
              "      <td>RT @OlgaNYC1211: Russia is playing long game c...</td>\n",
              "      <td>2022-05-20 11:48:50+00:00</td>\n",
              "    </tr>\n",
              "    <tr>\n",
              "      <th>2</th>\n",
              "      <td>Berna_BM</td>\n",
              "      <td>RT @RepMTG: $40 BILLION to Ukraine is an Ameri...</td>\n",
              "      <td>2022-05-20 11:48:50+00:00</td>\n",
              "    </tr>\n",
              "    <tr>\n",
              "      <th>3</th>\n",
              "      <td>SermonetaFutura</td>\n",
              "      <td>RT @mannocchia: New Evidence Shows How Russian...</td>\n",
              "      <td>2022-05-20 11:48:50+00:00</td>\n",
              "    </tr>\n",
              "    <tr>\n",
              "      <th>4</th>\n",
              "      <td>Dallas4Bernie</td>\n",
              "      <td>RT @socialiststeve6: Biden will send $53,000,0...</td>\n",
              "      <td>2022-05-20 11:48:49+00:00</td>\n",
              "    </tr>\n",
              "    <tr>\n",
              "      <th>...</th>\n",
              "      <td>...</td>\n",
              "      <td>...</td>\n",
              "      <td>...</td>\n",
              "    </tr>\n",
              "    <tr>\n",
              "      <th>95</th>\n",
              "      <td>TerraOrBust</td>\n",
              "      <td>RT @commonslibrary: The EU imports over 80% of...</td>\n",
              "      <td>2022-05-20 11:48:37+00:00</td>\n",
              "    </tr>\n",
              "    <tr>\n",
              "      <th>96</th>\n",
              "      <td>treswatson</td>\n",
              "      <td>RT @benjaminwittes: The New York Times editori...</td>\n",
              "      <td>2022-05-20 11:48:37+00:00</td>\n",
              "    </tr>\n",
              "    <tr>\n",
              "      <th>97</th>\n",
              "      <td>mahiru1024</td>\n",
              "      <td>RT @JuliaDavisNews: Meanwhile on Russian state...</td>\n",
              "      <td>2022-05-20 11:48:37+00:00</td>\n",
              "    </tr>\n",
              "    <tr>\n",
              "      <th>98</th>\n",
              "      <td>murf1966</td>\n",
              "      <td>RT @socialiststeve6: Biden will send $53,000,0...</td>\n",
              "      <td>2022-05-20 11:48:36+00:00</td>\n",
              "    </tr>\n",
              "    <tr>\n",
              "      <th>99</th>\n",
              "      <td>AkemiAnonSato</td>\n",
              "      <td>@takinitezi @Judipopsicle @JulianRoepcke You l...</td>\n",
              "      <td>2022-05-20 11:48:36+00:00</td>\n",
              "    </tr>\n",
              "  </tbody>\n",
              "</table>\n",
              "<p>100 rows × 3 columns</p>\n",
              "</div>\n",
              "      <button class=\"colab-df-convert\" onclick=\"convertToInteractive('df-605ee899-a462-475d-ae56-74bb1d1ba144')\"\n",
              "              title=\"Convert this dataframe to an interactive table.\"\n",
              "              style=\"display:none;\">\n",
              "        \n",
              "  <svg xmlns=\"http://www.w3.org/2000/svg\" height=\"24px\"viewBox=\"0 0 24 24\"\n",
              "       width=\"24px\">\n",
              "    <path d=\"M0 0h24v24H0V0z\" fill=\"none\"/>\n",
              "    <path d=\"M18.56 5.44l.94 2.06.94-2.06 2.06-.94-2.06-.94-.94-2.06-.94 2.06-2.06.94zm-11 1L8.5 8.5l.94-2.06 2.06-.94-2.06-.94L8.5 2.5l-.94 2.06-2.06.94zm10 10l.94 2.06.94-2.06 2.06-.94-2.06-.94-.94-2.06-.94 2.06-2.06.94z\"/><path d=\"M17.41 7.96l-1.37-1.37c-.4-.4-.92-.59-1.43-.59-.52 0-1.04.2-1.43.59L10.3 9.45l-7.72 7.72c-.78.78-.78 2.05 0 2.83L4 21.41c.39.39.9.59 1.41.59.51 0 1.02-.2 1.41-.59l7.78-7.78 2.81-2.81c.8-.78.8-2.07 0-2.86zM5.41 20L4 18.59l7.72-7.72 1.47 1.35L5.41 20z\"/>\n",
              "  </svg>\n",
              "      </button>\n",
              "      \n",
              "  <style>\n",
              "    .colab-df-container {\n",
              "      display:flex;\n",
              "      flex-wrap:wrap;\n",
              "      gap: 12px;\n",
              "    }\n",
              "\n",
              "    .colab-df-convert {\n",
              "      background-color: #E8F0FE;\n",
              "      border: none;\n",
              "      border-radius: 50%;\n",
              "      cursor: pointer;\n",
              "      display: none;\n",
              "      fill: #1967D2;\n",
              "      height: 32px;\n",
              "      padding: 0 0 0 0;\n",
              "      width: 32px;\n",
              "    }\n",
              "\n",
              "    .colab-df-convert:hover {\n",
              "      background-color: #E2EBFA;\n",
              "      box-shadow: 0px 1px 2px rgba(60, 64, 67, 0.3), 0px 1px 3px 1px rgba(60, 64, 67, 0.15);\n",
              "      fill: #174EA6;\n",
              "    }\n",
              "\n",
              "    [theme=dark] .colab-df-convert {\n",
              "      background-color: #3B4455;\n",
              "      fill: #D2E3FC;\n",
              "    }\n",
              "\n",
              "    [theme=dark] .colab-df-convert:hover {\n",
              "      background-color: #434B5C;\n",
              "      box-shadow: 0px 1px 3px 1px rgba(0, 0, 0, 0.15);\n",
              "      filter: drop-shadow(0px 1px 2px rgba(0, 0, 0, 0.3));\n",
              "      fill: #FFFFFF;\n",
              "    }\n",
              "  </style>\n",
              "\n",
              "      <script>\n",
              "        const buttonEl =\n",
              "          document.querySelector('#df-605ee899-a462-475d-ae56-74bb1d1ba144 button.colab-df-convert');\n",
              "        buttonEl.style.display =\n",
              "          google.colab.kernel.accessAllowed ? 'block' : 'none';\n",
              "\n",
              "        async function convertToInteractive(key) {\n",
              "          const element = document.querySelector('#df-605ee899-a462-475d-ae56-74bb1d1ba144');\n",
              "          const dataTable =\n",
              "            await google.colab.kernel.invokeFunction('convertToInteractive',\n",
              "                                                     [key], {});\n",
              "          if (!dataTable) return;\n",
              "\n",
              "          const docLinkHtml = 'Like what you see? Visit the ' +\n",
              "            '<a target=\"_blank\" href=https://colab.research.google.com/notebooks/data_table.ipynb>data table notebook</a>'\n",
              "            + ' to learn more about interactive tables.';\n",
              "          element.innerHTML = '';\n",
              "          dataTable['output_type'] = 'display_data';\n",
              "          await google.colab.output.renderOutput(dataTable, element);\n",
              "          const docLink = document.createElement('div');\n",
              "          docLink.innerHTML = docLinkHtml;\n",
              "          element.appendChild(docLink);\n",
              "        }\n",
              "      </script>\n",
              "    </div>\n",
              "  </div>\n",
              "  "
            ]
          },
          "metadata": {},
          "execution_count": 10
        }
      ],
      "source": [
        "# Create df from API output\n",
        "df_std = pd.DataFrame(list(zip(screen_names,tweets,time_stamps)),\n",
        "               columns =['screen_name','tweets','time_stamp'])\n",
        "df_std"
      ]
    },
    {
      "cell_type": "markdown",
      "id": "df77d5ae",
      "metadata": {
        "id": "df77d5ae"
      },
      "source": [
        "### 3.2 Get trends near a location API"
      ]
    },
    {
      "cell_type": "markdown",
      "source": [
        "#### 3.2.1 Query Trends using place_id\n",
        "\n",
        "The place id is added to the query and will filter tweets from the region corresponding to the id."
      ],
      "metadata": {
        "id": "63-M9BXKiM1T"
      },
      "id": "63-M9BXKiM1T"
    },
    {
      "cell_type": "code",
      "source": [
        "# get kenyan place id\n",
        "\n",
        "places = api.search_geo(query=\"KE\", granularity=\"country\")\n",
        "place_id = places[0].id"
      ],
      "metadata": {
        "id": "qYk-NnhiiED-"
      },
      "id": "qYk-NnhiiED-",
      "execution_count": null,
      "outputs": []
    },
    {
      "cell_type": "code",
      "source": [
        "# extract tweets in this place id\n",
        "%%time\n",
        "\n",
        "# query\n",
        "query = f'(mariupol OR ukraine) lang:en -is:retweet -is:reply place:{place_id}'\n",
        "\n",
        "# Tweets to be returned by API\n",
        "tweet_count = 100\n",
        "\n",
        "# List containers for API output\n",
        "tweets = []\n",
        "time_stamps = []\n",
        "screen_names = []\n",
        "topic_country = []\n",
        "\n",
        "# Query API\n",
        "\n",
        "for tweet in api.search_tweets(q=query,count=tweet_count,lang='en',result_type=\"recent\"):\n",
        "    tweets.append(tweet.text)\n",
        "    time_stamps.append(tweet.created_at)\n",
        "    screen_names.append(tweet.user.screen_name)\n",
        "\n",
        "\n",
        "df_place = pd.DataFrame(list(zip(screen_names,tweets,time_stamps)),\n",
        "               columns =['screen_name','tweets','time_stamp'])\n",
        "df_place"
      ],
      "metadata": {
        "id": "BDd2d75MirrO",
        "outputId": "976385c3-9344-41f1-cf56-301d9db8a00a",
        "colab": {
          "base_uri": "https://localhost:8080/"
        }
      },
      "id": "BDd2d75MirrO",
      "execution_count": null,
      "outputs": [
        {
          "output_type": "stream",
          "name": "stdout",
          "text": [
            "CPU times: user 21.3 ms, sys: 427 µs, total: 21.7 ms\n",
            "Wall time: 286 ms\n"
          ]
        }
      ]
    },
    {
      "cell_type": "code",
      "source": [
        "df_place.head(5)"
      ],
      "metadata": {
        "id": "r3hBg1sbjdJo",
        "outputId": "5d075f98-d447-4f8a-ce17-9214f3465efc",
        "colab": {
          "base_uri": "https://localhost:8080/",
          "height": 206
        }
      },
      "id": "r3hBg1sbjdJo",
      "execution_count": null,
      "outputs": [
        {
          "output_type": "execute_result",
          "data": {
            "text/plain": [
              "     screen_name                                             tweets  \\\n",
              "0     EdwinJumba  💸Dollar about to hit the 💶 Euro mark and heade...   \n",
              "1  WilliamMfalme  I am examining the response from both sides of...   \n",
              "2       BejaMuti  @BBCWorld Ukraine should join NATO now. They h...   \n",
              "3     WilmaTarus  I hate retrogressiveness. Loss of life of that...   \n",
              "4         wwega2  @TonyMurega Let's keep funding Ukraine to Keep...   \n",
              "\n",
              "                 time_stamp  \n",
              "0 2022-05-20 09:35:08+00:00  \n",
              "1 2022-05-20 07:31:36+00:00  \n",
              "2 2022-05-19 21:49:50+00:00  \n",
              "3 2022-05-19 18:04:14+00:00  \n",
              "4 2022-05-19 13:50:56+00:00  "
            ],
            "text/html": [
              "\n",
              "  <div id=\"df-602803d1-b5c8-408c-af3a-07cbafa892f0\">\n",
              "    <div class=\"colab-df-container\">\n",
              "      <div>\n",
              "<style scoped>\n",
              "    .dataframe tbody tr th:only-of-type {\n",
              "        vertical-align: middle;\n",
              "    }\n",
              "\n",
              "    .dataframe tbody tr th {\n",
              "        vertical-align: top;\n",
              "    }\n",
              "\n",
              "    .dataframe thead th {\n",
              "        text-align: right;\n",
              "    }\n",
              "</style>\n",
              "<table border=\"1\" class=\"dataframe\">\n",
              "  <thead>\n",
              "    <tr style=\"text-align: right;\">\n",
              "      <th></th>\n",
              "      <th>screen_name</th>\n",
              "      <th>tweets</th>\n",
              "      <th>time_stamp</th>\n",
              "    </tr>\n",
              "  </thead>\n",
              "  <tbody>\n",
              "    <tr>\n",
              "      <th>0</th>\n",
              "      <td>EdwinJumba</td>\n",
              "      <td>💸Dollar about to hit the 💶 Euro mark and heade...</td>\n",
              "      <td>2022-05-20 09:35:08+00:00</td>\n",
              "    </tr>\n",
              "    <tr>\n",
              "      <th>1</th>\n",
              "      <td>WilliamMfalme</td>\n",
              "      <td>I am examining the response from both sides of...</td>\n",
              "      <td>2022-05-20 07:31:36+00:00</td>\n",
              "    </tr>\n",
              "    <tr>\n",
              "      <th>2</th>\n",
              "      <td>BejaMuti</td>\n",
              "      <td>@BBCWorld Ukraine should join NATO now. They h...</td>\n",
              "      <td>2022-05-19 21:49:50+00:00</td>\n",
              "    </tr>\n",
              "    <tr>\n",
              "      <th>3</th>\n",
              "      <td>WilmaTarus</td>\n",
              "      <td>I hate retrogressiveness. Loss of life of that...</td>\n",
              "      <td>2022-05-19 18:04:14+00:00</td>\n",
              "    </tr>\n",
              "    <tr>\n",
              "      <th>4</th>\n",
              "      <td>wwega2</td>\n",
              "      <td>@TonyMurega Let's keep funding Ukraine to Keep...</td>\n",
              "      <td>2022-05-19 13:50:56+00:00</td>\n",
              "    </tr>\n",
              "  </tbody>\n",
              "</table>\n",
              "</div>\n",
              "      <button class=\"colab-df-convert\" onclick=\"convertToInteractive('df-602803d1-b5c8-408c-af3a-07cbafa892f0')\"\n",
              "              title=\"Convert this dataframe to an interactive table.\"\n",
              "              style=\"display:none;\">\n",
              "        \n",
              "  <svg xmlns=\"http://www.w3.org/2000/svg\" height=\"24px\"viewBox=\"0 0 24 24\"\n",
              "       width=\"24px\">\n",
              "    <path d=\"M0 0h24v24H0V0z\" fill=\"none\"/>\n",
              "    <path d=\"M18.56 5.44l.94 2.06.94-2.06 2.06-.94-2.06-.94-.94-2.06-.94 2.06-2.06.94zm-11 1L8.5 8.5l.94-2.06 2.06-.94-2.06-.94L8.5 2.5l-.94 2.06-2.06.94zm10 10l.94 2.06.94-2.06 2.06-.94-2.06-.94-.94-2.06-.94 2.06-2.06.94z\"/><path d=\"M17.41 7.96l-1.37-1.37c-.4-.4-.92-.59-1.43-.59-.52 0-1.04.2-1.43.59L10.3 9.45l-7.72 7.72c-.78.78-.78 2.05 0 2.83L4 21.41c.39.39.9.59 1.41.59.51 0 1.02-.2 1.41-.59l7.78-7.78 2.81-2.81c.8-.78.8-2.07 0-2.86zM5.41 20L4 18.59l7.72-7.72 1.47 1.35L5.41 20z\"/>\n",
              "  </svg>\n",
              "      </button>\n",
              "      \n",
              "  <style>\n",
              "    .colab-df-container {\n",
              "      display:flex;\n",
              "      flex-wrap:wrap;\n",
              "      gap: 12px;\n",
              "    }\n",
              "\n",
              "    .colab-df-convert {\n",
              "      background-color: #E8F0FE;\n",
              "      border: none;\n",
              "      border-radius: 50%;\n",
              "      cursor: pointer;\n",
              "      display: none;\n",
              "      fill: #1967D2;\n",
              "      height: 32px;\n",
              "      padding: 0 0 0 0;\n",
              "      width: 32px;\n",
              "    }\n",
              "\n",
              "    .colab-df-convert:hover {\n",
              "      background-color: #E2EBFA;\n",
              "      box-shadow: 0px 1px 2px rgba(60, 64, 67, 0.3), 0px 1px 3px 1px rgba(60, 64, 67, 0.15);\n",
              "      fill: #174EA6;\n",
              "    }\n",
              "\n",
              "    [theme=dark] .colab-df-convert {\n",
              "      background-color: #3B4455;\n",
              "      fill: #D2E3FC;\n",
              "    }\n",
              "\n",
              "    [theme=dark] .colab-df-convert:hover {\n",
              "      background-color: #434B5C;\n",
              "      box-shadow: 0px 1px 3px 1px rgba(0, 0, 0, 0.15);\n",
              "      filter: drop-shadow(0px 1px 2px rgba(0, 0, 0, 0.3));\n",
              "      fill: #FFFFFF;\n",
              "    }\n",
              "  </style>\n",
              "\n",
              "      <script>\n",
              "        const buttonEl =\n",
              "          document.querySelector('#df-602803d1-b5c8-408c-af3a-07cbafa892f0 button.colab-df-convert');\n",
              "        buttonEl.style.display =\n",
              "          google.colab.kernel.accessAllowed ? 'block' : 'none';\n",
              "\n",
              "        async function convertToInteractive(key) {\n",
              "          const element = document.querySelector('#df-602803d1-b5c8-408c-af3a-07cbafa892f0');\n",
              "          const dataTable =\n",
              "            await google.colab.kernel.invokeFunction('convertToInteractive',\n",
              "                                                     [key], {});\n",
              "          if (!dataTable) return;\n",
              "\n",
              "          const docLinkHtml = 'Like what you see? Visit the ' +\n",
              "            '<a target=\"_blank\" href=https://colab.research.google.com/notebooks/data_table.ipynb>data table notebook</a>'\n",
              "            + ' to learn more about interactive tables.';\n",
              "          element.innerHTML = '';\n",
              "          dataTable['output_type'] = 'display_data';\n",
              "          await google.colab.output.renderOutput(dataTable, element);\n",
              "          const docLink = document.createElement('div');\n",
              "          docLink.innerHTML = docLinkHtml;\n",
              "          element.appendChild(docLink);\n",
              "        }\n",
              "      </script>\n",
              "    </div>\n",
              "  </div>\n",
              "  "
            ]
          },
          "metadata": {},
          "execution_count": 13
        }
      ]
    },
    {
      "cell_type": "markdown",
      "source": [
        "####3.2.1.1 Extract More Tweets\n",
        "\n",
        "Paginate the searches to extract more tweets with Cursor paginator"
      ],
      "metadata": {
        "id": "ljfaZMPpj_5O"
      },
      "id": "ljfaZMPpj_5O"
    },
    {
      "cell_type": "code",
      "source": [
        "query = f'place:{place_id} lang:en -is:retweet -is:reply'\n",
        "\n",
        "def tweets_dataframe(api: tweepy.API, query: str, n: int=7):\n",
        "\n",
        "    '''This function will extract tweets within Kenya for the past one week,\n",
        "    and returns as a list of Pandas dataframes.\n",
        "\n",
        "    Attributes\n",
        "    ----------\n",
        "    api.tweepy: class \n",
        "      instance of the api version 1 endpoint\n",
        "    \n",
        "    query: str\n",
        "      api search parameter\n",
        "\n",
        "    days: int, optional\n",
        "      number of days to query tweets. Default is 7 days\n",
        "\n",
        "    Returns\n",
        "    -------\n",
        "    df_lists: list\n",
        "      returns a list of pandas dataframes\n",
        "\n",
        "    '''\n",
        "    df_list = []\n",
        "    while True:\n",
        "        date_time = datetime.date.today()               #Acquire today's date\n",
        "        time_delta1 = datetime.timedelta(days=n)\n",
        "        time_delta2 = datetime.timedelta(days = n-1)\n",
        "\n",
        "        # Search dates\n",
        "        date_since = str(date_time-time_delta1)\n",
        "        date_until = str(date_time-time_delta2)\n",
        "\n",
        "        # acquire the tweets\n",
        "        tweets = tweepy.Cursor(api.search_tweets,\n",
        "                               q=query,\n",
        "                               count = 100,\n",
        "                               until=date_until).items(2000)\n",
        "\n",
        "        #Obtain the tweets information and pass it into a data frame\n",
        "        tweet_info = [[tweet.id_str,tweet.created_at,tweet.user.location,tweet.text] for tweet in tweets]\n",
        "        df = pd.DataFrame(data=tweet_info, columns=['tweet_id_str','date_time','location','tweet_text'])\n",
        "\n",
        "        #append the created dataframe into a list\n",
        "        df_list.append(df)\n",
        "        n = n-1\n",
        "        if n == 0:\n",
        "          break\n",
        "    \n",
        "    return  pd.concat(df_list)\n",
        "\n",
        "df_place = tweets_dataframe(api,query=query,n=7)\n",
        "\n",
        "# save the df\n",
        "df_place.to_csv('kenya_all_data.csv',index=False)"
      ],
      "metadata": {
        "id": "fYsB-tIwkVlH"
      },
      "id": "fYsB-tIwkVlH",
      "execution_count": null,
      "outputs": []
    },
    {
      "cell_type": "code",
      "source": [
        "df_place.drop_duplicates(inplace=True)\n",
        "df_place.shape"
      ],
      "metadata": {
        "id": "G382FFD6omh-",
        "outputId": "5cef76fd-fea4-4a68-a0e2-b4d58e94aca7",
        "colab": {
          "base_uri": "https://localhost:8080/"
        }
      },
      "id": "G382FFD6omh-",
      "execution_count": null,
      "outputs": [
        {
          "output_type": "execute_result",
          "data": {
            "text/plain": [
              "(14000, 4)"
            ]
          },
          "metadata": {},
          "execution_count": 15
        }
      ]
    },
    {
      "cell_type": "markdown",
      "id": "aed6db2a",
      "metadata": {
        "id": "aed6db2a"
      },
      "source": [
        "#### 3.2.2 Query Trends using WOEID"
      ]
    },
    {
      "cell_type": "markdown",
      "id": "677abad9",
      "metadata": {
        "id": "677abad9"
      },
      "source": [
        "Returns the top 50 trending topics for a specific id if trending information is available. Note: The id parameter for this endpoint is the \"where on earth identifier\" or WOEID."
      ]
    },
    {
      "cell_type": "code",
      "execution_count": null,
      "id": "88f6d8f2",
      "metadata": {
        "colab": {
          "base_uri": "https://localhost:8080/"
        },
        "id": "88f6d8f2",
        "outputId": "cfa30ebb-2579-4a57-bf08-f07ba0dfbb6c"
      },
      "outputs": [
        {
          "output_type": "stream",
          "name": "stdout",
          "text": [
            "CPU times: user 14.9 ms, sys: 945 µs, total: 15.8 ms\n",
            "Wall time: 152 ms\n"
          ]
        }
      ],
      "source": [
        "%%time\n",
        "# Access trending tweets near my location (Kenya)\n",
        "\n",
        "# WOEID for Kenya (Where On Earth IDentifier)\n",
        "woeid = 23424863\n",
        "\n",
        "# fetching the trends\n",
        "trends = api.get_place_trends(id = woeid)\n",
        "\n",
        "# Topic placeholder\n",
        "trending_topics = []\n",
        "\n",
        "# Query and list trends\n",
        "for value in trends:\n",
        "    for trend in value['trends']:\n",
        "        trending_topics.append(trend['name'])"
      ]
    },
    {
      "cell_type": "markdown",
      "id": "85145ce4",
      "metadata": {
        "id": "85145ce4"
      },
      "source": [
        "#### 3.2.3 Query Tweets for Trends"
      ]
    },
    {
      "cell_type": "markdown",
      "id": "b62e2b50",
      "metadata": {
        "id": "b62e2b50"
      },
      "source": [
        "Query tweets for the above trending hashtags."
      ]
    },
    {
      "cell_type": "code",
      "execution_count": null,
      "id": "3e0f31b1",
      "metadata": {
        "colab": {
          "base_uri": "https://localhost:8080/"
        },
        "id": "3e0f31b1",
        "outputId": "e2a944bb-d944-4098-867f-82b9694dd1ae"
      },
      "outputs": [
        {
          "output_type": "stream",
          "name": "stderr",
          "text": [
            "Rate limit reached. Sleeping for: 93\n"
          ]
        },
        {
          "output_type": "stream",
          "name": "stdout",
          "text": [
            "CPU times: user 2.04 s, sys: 127 ms, total: 2.17 s\n",
            "Wall time: 1min 53s\n"
          ]
        }
      ],
      "source": [
        "%%time\n",
        "# Return the most recent tweets for each trend\n",
        "\n",
        "# tweet count for each hashtag\n",
        "tweet_count = 100\n",
        "\n",
        "# List containers for API output\n",
        "trending_tweets = []\n",
        "trending_time_stamps = []\n",
        "trending_screen_names = []\n",
        "trending_topic = []\n",
        "\n",
        "# Query tweets from trends\n",
        "q = ' lang:en -is:retweet -is:reply'\n",
        "for topic in trending_topics:\n",
        "    \n",
        "    for tweet in api.search_tweets(q=topic+q,count=tweet_count,lang='en'):\n",
        "        trending_tweets.append(tweet.text)\n",
        "        trending_time_stamps.append(tweet.created_at)\n",
        "        trending_screen_names.append(tweet.user.screen_name)\n",
        "        trending_topic.append(topic)\n",
        "    \n",
        "\n"
      ]
    },
    {
      "cell_type": "code",
      "execution_count": null,
      "id": "842fa72e",
      "metadata": {
        "colab": {
          "base_uri": "https://localhost:8080/",
          "height": 424
        },
        "id": "842fa72e",
        "outputId": "56cdbb16-9d6b-49ee-d1e0-f03294243965"
      },
      "outputs": [
        {
          "output_type": "execute_result",
          "data": {
            "text/plain": [
              "          screen_name           hashtag  \\\n",
              "0        victor__haya  #UshuruWaUchungu   \n",
              "1     Robert_Musyoka7  #UshuruWaUchungu   \n",
              "2     PrinceRaymondke  #UshuruWaUchungu   \n",
              "3          githu_bobo  #UshuruWaUchungu   \n",
              "4           Jaymoh_8k  #UshuruWaUchungu   \n",
              "...               ...               ...   \n",
              "4633         kupaleon            Alonso   \n",
              "4634        nick01281            Alonso   \n",
              "4635         kupaleon            Alonso   \n",
              "4636    Alonso_Cabral            Alonso   \n",
              "4637      Jesus_97_MC            Alonso   \n",
              "\n",
              "                                                  tweet  \\\n",
              "0     The 2022 financial bill  will lead to high cos...   \n",
              "1     RT @MwariwaKuria: The reason why we should all...   \n",
              "2     RT @MwariwaKuria: increased cost of beverages ...   \n",
              "3     RT @githu_bobo: Something to worry about ni pr...   \n",
              "4     Maisha ni hard na uenda tukalipa #UshuruWaUchu...   \n",
              "...                                                 ...   \n",
              "4633  RT @NizaarKinsella: A positive note: Chelsea c...   \n",
              "4634  RT @altaeeameer11: Today marks the retirement ...   \n",
              "4635  RT @NizaarKinsella: Marcos Alonso is having so...   \n",
              "4636  RT @F1: Just a few days old, and already a fan...   \n",
              "4637  RT @F1: No place like home, right @alo_oficial...   \n",
              "\n",
              "                    time_stamp  \n",
              "0    2022-05-20 12:02:01+00:00  \n",
              "1    2022-05-20 12:01:51+00:00  \n",
              "2    2022-05-20 12:01:46+00:00  \n",
              "3    2022-05-20 12:01:40+00:00  \n",
              "4    2022-05-20 12:01:34+00:00  \n",
              "...                        ...  \n",
              "4633 2022-05-20 11:57:27+00:00  \n",
              "4634 2022-05-20 11:57:26+00:00  \n",
              "4635 2022-05-20 11:57:20+00:00  \n",
              "4636 2022-05-20 11:57:17+00:00  \n",
              "4637 2022-05-20 11:57:13+00:00  \n",
              "\n",
              "[4638 rows x 4 columns]"
            ],
            "text/html": [
              "\n",
              "  <div id=\"df-3cdadfbe-8b30-48bd-a676-d128d7654455\">\n",
              "    <div class=\"colab-df-container\">\n",
              "      <div>\n",
              "<style scoped>\n",
              "    .dataframe tbody tr th:only-of-type {\n",
              "        vertical-align: middle;\n",
              "    }\n",
              "\n",
              "    .dataframe tbody tr th {\n",
              "        vertical-align: top;\n",
              "    }\n",
              "\n",
              "    .dataframe thead th {\n",
              "        text-align: right;\n",
              "    }\n",
              "</style>\n",
              "<table border=\"1\" class=\"dataframe\">\n",
              "  <thead>\n",
              "    <tr style=\"text-align: right;\">\n",
              "      <th></th>\n",
              "      <th>screen_name</th>\n",
              "      <th>hashtag</th>\n",
              "      <th>tweet</th>\n",
              "      <th>time_stamp</th>\n",
              "    </tr>\n",
              "  </thead>\n",
              "  <tbody>\n",
              "    <tr>\n",
              "      <th>0</th>\n",
              "      <td>victor__haya</td>\n",
              "      <td>#UshuruWaUchungu</td>\n",
              "      <td>The 2022 financial bill  will lead to high cos...</td>\n",
              "      <td>2022-05-20 12:02:01+00:00</td>\n",
              "    </tr>\n",
              "    <tr>\n",
              "      <th>1</th>\n",
              "      <td>Robert_Musyoka7</td>\n",
              "      <td>#UshuruWaUchungu</td>\n",
              "      <td>RT @MwariwaKuria: The reason why we should all...</td>\n",
              "      <td>2022-05-20 12:01:51+00:00</td>\n",
              "    </tr>\n",
              "    <tr>\n",
              "      <th>2</th>\n",
              "      <td>PrinceRaymondke</td>\n",
              "      <td>#UshuruWaUchungu</td>\n",
              "      <td>RT @MwariwaKuria: increased cost of beverages ...</td>\n",
              "      <td>2022-05-20 12:01:46+00:00</td>\n",
              "    </tr>\n",
              "    <tr>\n",
              "      <th>3</th>\n",
              "      <td>githu_bobo</td>\n",
              "      <td>#UshuruWaUchungu</td>\n",
              "      <td>RT @githu_bobo: Something to worry about ni pr...</td>\n",
              "      <td>2022-05-20 12:01:40+00:00</td>\n",
              "    </tr>\n",
              "    <tr>\n",
              "      <th>4</th>\n",
              "      <td>Jaymoh_8k</td>\n",
              "      <td>#UshuruWaUchungu</td>\n",
              "      <td>Maisha ni hard na uenda tukalipa #UshuruWaUchu...</td>\n",
              "      <td>2022-05-20 12:01:34+00:00</td>\n",
              "    </tr>\n",
              "    <tr>\n",
              "      <th>...</th>\n",
              "      <td>...</td>\n",
              "      <td>...</td>\n",
              "      <td>...</td>\n",
              "      <td>...</td>\n",
              "    </tr>\n",
              "    <tr>\n",
              "      <th>4633</th>\n",
              "      <td>kupaleon</td>\n",
              "      <td>Alonso</td>\n",
              "      <td>RT @NizaarKinsella: A positive note: Chelsea c...</td>\n",
              "      <td>2022-05-20 11:57:27+00:00</td>\n",
              "    </tr>\n",
              "    <tr>\n",
              "      <th>4634</th>\n",
              "      <td>nick01281</td>\n",
              "      <td>Alonso</td>\n",
              "      <td>RT @altaeeameer11: Today marks the retirement ...</td>\n",
              "      <td>2022-05-20 11:57:26+00:00</td>\n",
              "    </tr>\n",
              "    <tr>\n",
              "      <th>4635</th>\n",
              "      <td>kupaleon</td>\n",
              "      <td>Alonso</td>\n",
              "      <td>RT @NizaarKinsella: Marcos Alonso is having so...</td>\n",
              "      <td>2022-05-20 11:57:20+00:00</td>\n",
              "    </tr>\n",
              "    <tr>\n",
              "      <th>4636</th>\n",
              "      <td>Alonso_Cabral</td>\n",
              "      <td>Alonso</td>\n",
              "      <td>RT @F1: Just a few days old, and already a fan...</td>\n",
              "      <td>2022-05-20 11:57:17+00:00</td>\n",
              "    </tr>\n",
              "    <tr>\n",
              "      <th>4637</th>\n",
              "      <td>Jesus_97_MC</td>\n",
              "      <td>Alonso</td>\n",
              "      <td>RT @F1: No place like home, right @alo_oficial...</td>\n",
              "      <td>2022-05-20 11:57:13+00:00</td>\n",
              "    </tr>\n",
              "  </tbody>\n",
              "</table>\n",
              "<p>4638 rows × 4 columns</p>\n",
              "</div>\n",
              "      <button class=\"colab-df-convert\" onclick=\"convertToInteractive('df-3cdadfbe-8b30-48bd-a676-d128d7654455')\"\n",
              "              title=\"Convert this dataframe to an interactive table.\"\n",
              "              style=\"display:none;\">\n",
              "        \n",
              "  <svg xmlns=\"http://www.w3.org/2000/svg\" height=\"24px\"viewBox=\"0 0 24 24\"\n",
              "       width=\"24px\">\n",
              "    <path d=\"M0 0h24v24H0V0z\" fill=\"none\"/>\n",
              "    <path d=\"M18.56 5.44l.94 2.06.94-2.06 2.06-.94-2.06-.94-.94-2.06-.94 2.06-2.06.94zm-11 1L8.5 8.5l.94-2.06 2.06-.94-2.06-.94L8.5 2.5l-.94 2.06-2.06.94zm10 10l.94 2.06.94-2.06 2.06-.94-2.06-.94-.94-2.06-.94 2.06-2.06.94z\"/><path d=\"M17.41 7.96l-1.37-1.37c-.4-.4-.92-.59-1.43-.59-.52 0-1.04.2-1.43.59L10.3 9.45l-7.72 7.72c-.78.78-.78 2.05 0 2.83L4 21.41c.39.39.9.59 1.41.59.51 0 1.02-.2 1.41-.59l7.78-7.78 2.81-2.81c.8-.78.8-2.07 0-2.86zM5.41 20L4 18.59l7.72-7.72 1.47 1.35L5.41 20z\"/>\n",
              "  </svg>\n",
              "      </button>\n",
              "      \n",
              "  <style>\n",
              "    .colab-df-container {\n",
              "      display:flex;\n",
              "      flex-wrap:wrap;\n",
              "      gap: 12px;\n",
              "    }\n",
              "\n",
              "    .colab-df-convert {\n",
              "      background-color: #E8F0FE;\n",
              "      border: none;\n",
              "      border-radius: 50%;\n",
              "      cursor: pointer;\n",
              "      display: none;\n",
              "      fill: #1967D2;\n",
              "      height: 32px;\n",
              "      padding: 0 0 0 0;\n",
              "      width: 32px;\n",
              "    }\n",
              "\n",
              "    .colab-df-convert:hover {\n",
              "      background-color: #E2EBFA;\n",
              "      box-shadow: 0px 1px 2px rgba(60, 64, 67, 0.3), 0px 1px 3px 1px rgba(60, 64, 67, 0.15);\n",
              "      fill: #174EA6;\n",
              "    }\n",
              "\n",
              "    [theme=dark] .colab-df-convert {\n",
              "      background-color: #3B4455;\n",
              "      fill: #D2E3FC;\n",
              "    }\n",
              "\n",
              "    [theme=dark] .colab-df-convert:hover {\n",
              "      background-color: #434B5C;\n",
              "      box-shadow: 0px 1px 3px 1px rgba(0, 0, 0, 0.15);\n",
              "      filter: drop-shadow(0px 1px 2px rgba(0, 0, 0, 0.3));\n",
              "      fill: #FFFFFF;\n",
              "    }\n",
              "  </style>\n",
              "\n",
              "      <script>\n",
              "        const buttonEl =\n",
              "          document.querySelector('#df-3cdadfbe-8b30-48bd-a676-d128d7654455 button.colab-df-convert');\n",
              "        buttonEl.style.display =\n",
              "          google.colab.kernel.accessAllowed ? 'block' : 'none';\n",
              "\n",
              "        async function convertToInteractive(key) {\n",
              "          const element = document.querySelector('#df-3cdadfbe-8b30-48bd-a676-d128d7654455');\n",
              "          const dataTable =\n",
              "            await google.colab.kernel.invokeFunction('convertToInteractive',\n",
              "                                                     [key], {});\n",
              "          if (!dataTable) return;\n",
              "\n",
              "          const docLinkHtml = 'Like what you see? Visit the ' +\n",
              "            '<a target=\"_blank\" href=https://colab.research.google.com/notebooks/data_table.ipynb>data table notebook</a>'\n",
              "            + ' to learn more about interactive tables.';\n",
              "          element.innerHTML = '';\n",
              "          dataTable['output_type'] = 'display_data';\n",
              "          await google.colab.output.renderOutput(dataTable, element);\n",
              "          const docLink = document.createElement('div');\n",
              "          docLink.innerHTML = docLinkHtml;\n",
              "          element.appendChild(docLink);\n",
              "        }\n",
              "      </script>\n",
              "    </div>\n",
              "  </div>\n",
              "  "
            ]
          },
          "metadata": {},
          "execution_count": 18
        }
      ],
      "source": [
        "# Create df from API output\n",
        "trends_df = pd.DataFrame(list(zip(trending_screen_names,trending_topic,trending_tweets,trending_time_stamps)),\n",
        "               columns =['screen_name','hashtag','tweet','time_stamp'])\n",
        "trends_df"
      ]
    },
    {
      "cell_type": "code",
      "execution_count": null,
      "id": "f1d61a43",
      "metadata": {
        "colab": {
          "base_uri": "https://localhost:8080/"
        },
        "id": "f1d61a43",
        "outputId": "d5135c52-bc00-43e2-a4ac-a95a7c2e9ee8"
      },
      "outputs": [
        {
          "output_type": "execute_result",
          "data": {
            "text/plain": [
              "#UshuruWaUchungu     100\n",
              "Richarlison          100\n",
              "Leeds                100\n",
              "Lampard              100\n",
              "Waiyaki Way          100\n",
              "Rihanna              100\n",
              "Nzioka Waita         100\n",
              "Rangers              100\n",
              "LGBTQ                100\n",
              "Agenda               100\n",
              "Europe               100\n",
              "Ramsey               100\n",
              "betsafe finalists    100\n",
              "Embu                 100\n",
              "Goodison Park        100\n",
              "Crystal Palace       100\n",
              "Dr Phillip Munyao    100\n",
              "sifuna               100\n",
              "Diclofenac           100\n",
              "Pulisic              100\n",
              "Nyandarua            100\n",
              "Nyeri County         100\n",
              "East Mpaka London    100\n",
              "Iraq                 100\n",
              "Vieira               100\n",
              "Mbappe               100\n",
              "#BabaNaMama          100\n",
              "#LGServiceCentre     100\n",
              "#TwivaPays           100\n",
              "Everton              100\n",
              "Larry                100\n",
              "Celtics              100\n",
              "Rudi                 100\n",
              "Alonso               100\n",
              "Gachagua             100\n",
              "sakaja               100\n",
              "Madrid               100\n",
              "Karatina              97\n",
              "Polycarp Igathe       97\n",
              "Mirema                95\n",
              "Oscar Sudi            92\n",
              "#NoRigathiNoRuto      92\n",
              "Buruklyn Boyz         91\n",
              "matungulu             81\n",
              "Babu Owino            80\n",
              "Museveni              79\n",
              "Martha                56\n",
              "Huddah                44\n",
              "meru edition          22\n",
              "At 16                 12\n",
              "Name: hashtag, dtype: int64"
            ]
          },
          "metadata": {},
          "execution_count": 19
        }
      ],
      "source": [
        "# Hashtag distribution\n",
        "trends_df.hashtag.value_counts()"
      ]
    },
    {
      "cell_type": "code",
      "execution_count": null,
      "id": "1241cc32",
      "metadata": {
        "id": "1241cc32"
      },
      "outputs": [],
      "source": [
        "# save the scraped data\n",
        "\n",
        "# Set export file names\n",
        "today = date.today()\n",
        "trends_df_name = 'Kenya_Trend_Tweets {}.csv'.format(today)\n",
        "\n",
        "# Export dataframes\n",
        "\n",
        "trends_df.to_csv(trends_df_name,index= False)"
      ]
    },
    {
      "cell_type": "markdown",
      "source": [
        "# Twitter API v2"
      ],
      "metadata": {
        "id": "ZKEW6lbxePDY"
      },
      "id": "ZKEW6lbxePDY"
    },
    {
      "cell_type": "code",
      "source": [
        "# import config\n",
        "import requests\n",
        "import datetime"
      ],
      "metadata": {
        "id": "LSTkgJDQiz8T"
      },
      "id": "LSTkgJDQiz8T",
      "execution_count": null,
      "outputs": []
    },
    {
      "cell_type": "code",
      "source": [
        "# instance of api_v2 endpoint\n",
        "\n",
        "\n",
        "client = tweepy.Client(bearer_token=config.bearer_token,\n",
        "                       consumer_key=api_key,\n",
        "                       consumer_secret=api_key_secret, \n",
        "                       access_token=access_token,\n",
        "                       access_token_secret=access_token_secret,\n",
        "                       wait_on_rate_limit=True\n",
        "                       )"
      ],
      "metadata": {
        "id": "Sn1Lkpuhi0BW"
      },
      "id": "Sn1Lkpuhi0BW",
      "execution_count": null,
      "outputs": []
    },
    {
      "cell_type": "code",
      "source": [
        "query = f'(kenya kwanza OR uda OR ruto OR rigathi\\\n",
        " OR gachagua OR raila OR azimio OR \\\n",
        " azimio one kenya OR karua OR martha karua)\\\n",
        "  -#WomenWhoCode lang:en -is:retweet -is:reply'\n",
        "\n",
        "# allow character length is 512 for elevated queries\n",
        "print(len(query))\n",
        "\n",
        "response: tweepy.Client = client.search_recent_tweets(query=query, end_time=None, expansions=['author_id'],\n",
        "                                       max_results=100, media_fields=None, \n",
        "                                       next_token=None, place_fields=None, poll_fields=None,\n",
        "                                       since_id=None, sort_order=None, start_time=None, \n",
        "                                       tweet_fields=['created_at','lang','geo'], until_id=None, user_fields=['pinned_tweet_id','id'], user_auth=False)"
      ],
      "metadata": {
        "id": "_lHwV6NYkXtt",
        "colab": {
          "base_uri": "https://localhost:8080/"
        },
        "outputId": "5a9c066a-280c-4572-de10-ac32e5e388eb"
      },
      "id": "_lHwV6NYkXtt",
      "execution_count": null,
      "outputs": [
        {
          "output_type": "stream",
          "name": "stdout",
          "text": [
            "163\n"
          ]
        }
      ]
    },
    {
      "cell_type": "code",
      "source": [
        "#  extract the data and export to a pandas dataframe\n",
        "\n",
        "users: dict = {u['id']: u for u in response.includes['users']}\n",
        "\n",
        "tweets_data: list = []\n",
        "\n",
        "for resp in response.data:\n",
        "  if users[resp.author_id]:\n",
        "    user = users[resp.author_id]\n",
        "    \n",
        "    user_payload = {'user':user.name, 'date':resp.created_at,'tweet_id':resp.id, 'text':resp.text}\n",
        "    tweets_data.append(user_payload)\n",
        "\n",
        "df = pd.DataFrame(tweets_data, columns=['user','date','tweet_id','text'])"
      ],
      "metadata": {
        "id": "qaBVlFONkXzE"
      },
      "id": "qaBVlFONkXzE",
      "execution_count": null,
      "outputs": []
    },
    {
      "cell_type": "code",
      "source": [
        "df.head(5)"
      ],
      "metadata": {
        "id": "3498K9n27V2N",
        "colab": {
          "base_uri": "https://localhost:8080/",
          "height": 206
        },
        "outputId": "5fdb47a3-afa8-4f8c-af52-66898cb8f4cf"
      },
      "id": "3498K9n27V2N",
      "execution_count": null,
      "outputs": [
        {
          "output_type": "execute_result",
          "data": {
            "text/plain": [
              "                                             user                      date  \\\n",
              "0                                      tv030kenya 2022-05-20 12:07:00+00:00   \n",
              "1                                     Ravine News 2022-05-20 12:06:32+00:00   \n",
              "2  Breaking Kenya News/ www.breakingkenyanews.com 2022-05-20 12:06:24+00:00   \n",
              "3                                   Fredrick Were 2022-05-20 12:06:22+00:00   \n",
              "4                                    Baringo News 2022-05-20 12:05:55+00:00   \n",
              "\n",
              "              tweet_id                                               text  \n",
              "0  1527621913706909696  BARINGO SOUTH, BARINGO NORTH and Mogotio have ...  \n",
              "1  1527621797335769092  BARINGO SOUTH, BARINGO NORTH and Mogotio have ...  \n",
              "2  1527621761596006405  #Breakingkenyanews    Not just for the numbers...  \n",
              "3  1527621754105081856  We want a day when Azimio will have heavy rall...  \n",
              "4  1527621642075136001  BARINGO SOUTH, BARINGO NORTH and Mogotio have ...  "
            ],
            "text/html": [
              "\n",
              "  <div id=\"df-df2bee03-1d54-499d-b4f9-607c05ecbfc1\">\n",
              "    <div class=\"colab-df-container\">\n",
              "      <div>\n",
              "<style scoped>\n",
              "    .dataframe tbody tr th:only-of-type {\n",
              "        vertical-align: middle;\n",
              "    }\n",
              "\n",
              "    .dataframe tbody tr th {\n",
              "        vertical-align: top;\n",
              "    }\n",
              "\n",
              "    .dataframe thead th {\n",
              "        text-align: right;\n",
              "    }\n",
              "</style>\n",
              "<table border=\"1\" class=\"dataframe\">\n",
              "  <thead>\n",
              "    <tr style=\"text-align: right;\">\n",
              "      <th></th>\n",
              "      <th>user</th>\n",
              "      <th>date</th>\n",
              "      <th>tweet_id</th>\n",
              "      <th>text</th>\n",
              "    </tr>\n",
              "  </thead>\n",
              "  <tbody>\n",
              "    <tr>\n",
              "      <th>0</th>\n",
              "      <td>tv030kenya</td>\n",
              "      <td>2022-05-20 12:07:00+00:00</td>\n",
              "      <td>1527621913706909696</td>\n",
              "      <td>BARINGO SOUTH, BARINGO NORTH and Mogotio have ...</td>\n",
              "    </tr>\n",
              "    <tr>\n",
              "      <th>1</th>\n",
              "      <td>Ravine News</td>\n",
              "      <td>2022-05-20 12:06:32+00:00</td>\n",
              "      <td>1527621797335769092</td>\n",
              "      <td>BARINGO SOUTH, BARINGO NORTH and Mogotio have ...</td>\n",
              "    </tr>\n",
              "    <tr>\n",
              "      <th>2</th>\n",
              "      <td>Breaking Kenya News/ www.breakingkenyanews.com</td>\n",
              "      <td>2022-05-20 12:06:24+00:00</td>\n",
              "      <td>1527621761596006405</td>\n",
              "      <td>#Breakingkenyanews    Not just for the numbers...</td>\n",
              "    </tr>\n",
              "    <tr>\n",
              "      <th>3</th>\n",
              "      <td>Fredrick Were</td>\n",
              "      <td>2022-05-20 12:06:22+00:00</td>\n",
              "      <td>1527621754105081856</td>\n",
              "      <td>We want a day when Azimio will have heavy rall...</td>\n",
              "    </tr>\n",
              "    <tr>\n",
              "      <th>4</th>\n",
              "      <td>Baringo News</td>\n",
              "      <td>2022-05-20 12:05:55+00:00</td>\n",
              "      <td>1527621642075136001</td>\n",
              "      <td>BARINGO SOUTH, BARINGO NORTH and Mogotio have ...</td>\n",
              "    </tr>\n",
              "  </tbody>\n",
              "</table>\n",
              "</div>\n",
              "      <button class=\"colab-df-convert\" onclick=\"convertToInteractive('df-df2bee03-1d54-499d-b4f9-607c05ecbfc1')\"\n",
              "              title=\"Convert this dataframe to an interactive table.\"\n",
              "              style=\"display:none;\">\n",
              "        \n",
              "  <svg xmlns=\"http://www.w3.org/2000/svg\" height=\"24px\"viewBox=\"0 0 24 24\"\n",
              "       width=\"24px\">\n",
              "    <path d=\"M0 0h24v24H0V0z\" fill=\"none\"/>\n",
              "    <path d=\"M18.56 5.44l.94 2.06.94-2.06 2.06-.94-2.06-.94-.94-2.06-.94 2.06-2.06.94zm-11 1L8.5 8.5l.94-2.06 2.06-.94-2.06-.94L8.5 2.5l-.94 2.06-2.06.94zm10 10l.94 2.06.94-2.06 2.06-.94-2.06-.94-.94-2.06-.94 2.06-2.06.94z\"/><path d=\"M17.41 7.96l-1.37-1.37c-.4-.4-.92-.59-1.43-.59-.52 0-1.04.2-1.43.59L10.3 9.45l-7.72 7.72c-.78.78-.78 2.05 0 2.83L4 21.41c.39.39.9.59 1.41.59.51 0 1.02-.2 1.41-.59l7.78-7.78 2.81-2.81c.8-.78.8-2.07 0-2.86zM5.41 20L4 18.59l7.72-7.72 1.47 1.35L5.41 20z\"/>\n",
              "  </svg>\n",
              "      </button>\n",
              "      \n",
              "  <style>\n",
              "    .colab-df-container {\n",
              "      display:flex;\n",
              "      flex-wrap:wrap;\n",
              "      gap: 12px;\n",
              "    }\n",
              "\n",
              "    .colab-df-convert {\n",
              "      background-color: #E8F0FE;\n",
              "      border: none;\n",
              "      border-radius: 50%;\n",
              "      cursor: pointer;\n",
              "      display: none;\n",
              "      fill: #1967D2;\n",
              "      height: 32px;\n",
              "      padding: 0 0 0 0;\n",
              "      width: 32px;\n",
              "    }\n",
              "\n",
              "    .colab-df-convert:hover {\n",
              "      background-color: #E2EBFA;\n",
              "      box-shadow: 0px 1px 2px rgba(60, 64, 67, 0.3), 0px 1px 3px 1px rgba(60, 64, 67, 0.15);\n",
              "      fill: #174EA6;\n",
              "    }\n",
              "\n",
              "    [theme=dark] .colab-df-convert {\n",
              "      background-color: #3B4455;\n",
              "      fill: #D2E3FC;\n",
              "    }\n",
              "\n",
              "    [theme=dark] .colab-df-convert:hover {\n",
              "      background-color: #434B5C;\n",
              "      box-shadow: 0px 1px 3px 1px rgba(0, 0, 0, 0.15);\n",
              "      filter: drop-shadow(0px 1px 2px rgba(0, 0, 0, 0.3));\n",
              "      fill: #FFFFFF;\n",
              "    }\n",
              "  </style>\n",
              "\n",
              "      <script>\n",
              "        const buttonEl =\n",
              "          document.querySelector('#df-df2bee03-1d54-499d-b4f9-607c05ecbfc1 button.colab-df-convert');\n",
              "        buttonEl.style.display =\n",
              "          google.colab.kernel.accessAllowed ? 'block' : 'none';\n",
              "\n",
              "        async function convertToInteractive(key) {\n",
              "          const element = document.querySelector('#df-df2bee03-1d54-499d-b4f9-607c05ecbfc1');\n",
              "          const dataTable =\n",
              "            await google.colab.kernel.invokeFunction('convertToInteractive',\n",
              "                                                     [key], {});\n",
              "          if (!dataTable) return;\n",
              "\n",
              "          const docLinkHtml = 'Like what you see? Visit the ' +\n",
              "            '<a target=\"_blank\" href=https://colab.research.google.com/notebooks/data_table.ipynb>data table notebook</a>'\n",
              "            + ' to learn more about interactive tables.';\n",
              "          element.innerHTML = '';\n",
              "          dataTable['output_type'] = 'display_data';\n",
              "          await google.colab.output.renderOutput(dataTable, element);\n",
              "          const docLink = document.createElement('div');\n",
              "          docLink.innerHTML = docLinkHtml;\n",
              "          element.appendChild(docLink);\n",
              "        }\n",
              "      </script>\n",
              "    </div>\n",
              "  </div>\n",
              "  "
            ]
          },
          "metadata": {},
          "execution_count": 26
        }
      ]
    },
    {
      "cell_type": "markdown",
      "source": [
        "## API Generator\n",
        " Harvest more tweets"
      ],
      "metadata": {
        "id": "Lg416OvfeakT"
      },
      "id": "Lg416OvfeakT"
    },
    {
      "cell_type": "code",
      "source": [
        "\n",
        "def get_data_v2(query: str,days: int=6,max_limit: int=1000):\n",
        "  \"\"\"This functions scrape data from using Twitter APIv2 endpoint.\n",
        "  The elevated access restricts data acquisition to 7 days.\n",
        "\n",
        "  Parameters\n",
        "  ----------\n",
        "  days : int, optional \n",
        "    Number of days to return the data. Default is 7\n",
        "  \n",
        "  max_limit: int, optional\n",
        "    Max number of tweets to retrieve per day. Default is 1000\n",
        "\n",
        "  Returns\n",
        "  -------\n",
        "  df: pandas dataframe.\n",
        "    \n",
        "  \"\"\"\n",
        "  data: list = []\n",
        "\n",
        "  for n in reversed(range(days+1)):\n",
        "\n",
        "    date_time = datetime.date.today()               #Acquire today's date\n",
        "    time_delta1 = datetime.timedelta(days=n)\n",
        "    time_delta2 = datetime.timedelta(days = n-1)\n",
        "\n",
        "    date_since = (date_time-time_delta1).strftime(\"%Y-%m-%dT%H:%M:%SZ\")\n",
        "    date_until = (date_time-time_delta2).strftime(\"%Y-%m-%dT%H:%M:%SZ\")\n",
        "\n",
        "    if n == 0:\n",
        "      date_until: datetime=None\n",
        "\n",
        "    tweets = [ tweet\n",
        "              for tweet in tweepy.Paginator(client.search_recent_tweets,\n",
        "                                            query=query,\n",
        "                                            tweet_fields=['created_at','lang','geo'] ,\n",
        "                                            expansions=['author_id'], \n",
        "                                            max_results=100,\n",
        "                                            start_time=date_since,\n",
        "                                            end_time=date_until).flatten(limit=max_limit)\n",
        "    ]\n",
        "\n",
        "    data += [{\"date\": d.created_at,'author_id':d.author_id, 'tweet_id':d.id, \"text\": d.text} for d in tweets]\n",
        "\n",
        "  df = pd.DataFrame(data, columns=['date','author_id','tweet_id','text'])\n",
        "\n",
        "  return df"
      ],
      "metadata": {
        "id": "HKKjEXtAkX5Z"
      },
      "id": "HKKjEXtAkX5Z",
      "execution_count": null,
      "outputs": []
    },
    {
      "cell_type": "code",
      "source": [
        "df = get_data_v2(query=query,max_limit=2000)\n",
        "\n",
        "# save the csv\n",
        "\n",
        "df.to_csv('kenya_politico.csv')"
      ],
      "metadata": {
        "id": "vCa2tclaREDm"
      },
      "id": "vCa2tclaREDm",
      "execution_count": null,
      "outputs": []
    }
  ],
  "metadata": {
    "kernelspec": {
      "display_name": "Python 3 (ipykernel)",
      "language": "python",
      "name": "python3"
    },
    "language_info": {
      "codemirror_mode": {
        "name": "ipython",
        "version": 3
      },
      "file_extension": ".py",
      "mimetype": "text/x-python",
      "name": "python",
      "nbconvert_exporter": "python",
      "pygments_lexer": "ipython3",
      "version": "3.8.9"
    },
    "colab": {
      "name": "Twitter_API.ipynb",
      "provenance": [],
      "collapsed_sections": [],
      "include_colab_link": true
    }
  },
  "nbformat": 4,
  "nbformat_minor": 5
}